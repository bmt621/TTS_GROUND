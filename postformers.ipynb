{
 "cells": [
  {
   "attachments": {},
   "cell_type": "markdown",
   "metadata": {},
   "source": [
    "MULTI-LANG TOKENIZER "
   ]
  },
  {
   "attachments": {},
   "cell_type": "markdown",
   "metadata": {},
   "source": [
    "MEL-LINEAR"
   ]
  },
  {
   "cell_type": "code",
   "execution_count": 1,
   "metadata": {},
   "outputs": [],
   "source": [
    "import torch\n",
    "import torch.nn as nn\n",
    "import torch.nn.functional as F\n",
    "\n",
    "class LinearNorm(torch.nn.Module):\n",
    "    def __init__(self, in_dim, out_dim, bias=True, w_init_gain='linear'):\n",
    "        super(LinearNorm, self).__init__()\n",
    "        self.linear_layer = torch.nn.Linear(in_dim, out_dim, bias=bias)\n",
    "\n",
    "        torch.nn.init.xavier_uniform_(\n",
    "            self.linear_layer.weight,\n",
    "            gain=torch.nn.init.calculate_gain(w_init_gain))\n",
    "\n",
    "    def forward(self, x):\n",
    "        return self.linear_layer(x)\n",
    "\n",
    "class MelLinear(nn.Module):\n",
    "    def __init__(self, in_dim, out_dim, dropout=0.1):\n",
    "        super(MelLinear, self).__init__()\n",
    "    \n",
    "        self.layer1 = LinearNorm(in_dim,int(in_dim//2))\n",
    "        self.layer2 = LinearNorm(int(in_dim//2),out_dim)\n",
    "\n",
    "        self.drop1 = nn.Dropout(dropout)\n",
    "        self.drop2 = nn.Dropout(dropout)\n",
    "\n",
    "    def forward(self, x):\n",
    "        x = self.drop1(F.relu(self.layer1(x)))\n",
    "        x = self.drop2(self.layer2(x))\n",
    "\n",
    "        return x\n"
   ]
  },
  {
   "cell_type": "code",
   "execution_count": 2,
   "metadata": {},
   "outputs": [],
   "source": [
    "#713 // 2"
   ]
  },
  {
   "attachments": {},
   "cell_type": "markdown",
   "metadata": {},
   "source": [
    "TACOTRON POST-NET"
   ]
  },
  {
   "cell_type": "code",
   "execution_count": 3,
   "metadata": {},
   "outputs": [],
   "source": [
    "from utils import load_configs\n",
    "import utils\n",
    "import torch\n",
    "import torch.nn as nn\n",
    "\n",
    "configs = load_configs('hparams.yaml')\n",
    "\n",
    "class ConvNorm(torch.nn.Module):\n",
    "    def __init__(self, in_channels, out_channels, kernel_size=1, stride=1,\n",
    "                 padding=None, dilation=1, bias=True, w_init_gain='linear'):\n",
    "        super(ConvNorm, self).__init__()\n",
    "        if padding is None:\n",
    "            assert(kernel_size % 2 == 1)\n",
    "            padding = int(dilation * (kernel_size - 1) / 2)\n",
    "\n",
    "        self.conv = torch.nn.Conv1d(in_channels, out_channels,\n",
    "                                    kernel_size=kernel_size, stride=stride,\n",
    "                                    padding=padding, dilation=dilation,\n",
    "                                    bias=bias)\n",
    "\n",
    "        torch.nn.init.xavier_uniform_(\n",
    "            self.conv.weight, gain=torch.nn.init.calculate_gain(w_init_gain))\n",
    "\n",
    "    def forward(self, signal):\n",
    "        conv_signal = self.conv(signal)\n",
    "        return conv_signal\n",
    "\n",
    "class Postnet(nn.Module):\n",
    "    \"\"\"Postnet\n",
    "        - Five 1-d convolution with 512 channels and kernel size 5\n",
    "    \"\"\"\n",
    "    def __init__(self, configs, dropout):\n",
    "        super(Postnet, self).__init__()\n",
    "        self.convolutions = nn.ModuleList()\n",
    "        self.dropout = nn.Dropout(dropout)\n",
    "\n",
    "        self.convolutions.append(\n",
    "            nn.Sequential(\n",
    "                ConvNorm(configs['Audio_Configs']['num_mels'], configs['Postnet_Configs']['postnet_embedding_dim'],\n",
    "                         kernel_size=configs['Postnet_Configs']['postnet_kernel_size'], stride=1,\n",
    "                         padding=int((configs['Postnet_Configs']['postnet_kernel_size'] - 1) / 2),\n",
    "                         dilation=1, w_init_gain='tanh'),\n",
    "                nn.BatchNorm1d(configs['Postnet_Configs']['postnet_embedding_dim']))\n",
    "        )\n",
    "\n",
    "        for i in range(1, configs['Postnet_Configs']['postnet_n_convolutions'] - 1):\n",
    "            self.convolutions.append(\n",
    "                nn.Sequential(\n",
    "                    ConvNorm(configs['Postnet_Configs']['postnet_embedding_dim'],\n",
    "                             configs['Postnet_Configs']['postnet_embedding_dim'],\n",
    "                             kernel_size=configs['Postnet_Configs']['postnet_kernel_size'], stride=1,\n",
    "                             padding=int((configs['Postnet_Configs']['postnet_kernel_size'] - 1) / 2),\n",
    "                             dilation=1, w_init_gain='tanh'),\n",
    "                    nn.BatchNorm1d(configs['Postnet_Configs']['postnet_embedding_dim']))\n",
    "            )\n",
    "\n",
    "        self.convolutions.append(\n",
    "            nn.Sequential(\n",
    "                ConvNorm(configs['Postnet_Configs']['postnet_embedding_dim'], \n",
    "                         configs['Audio_Configs']['num_mels'],\n",
    "                         kernel_size=configs['Postnet_Configs']['postnet_kernel_size'], stride=1,\n",
    "                         padding=int((configs['Postnet_Configs']['postnet_kernel_size'] - 1) / 2),\n",
    "                         dilation=1, w_init_gain='linear'),\n",
    "                nn.BatchNorm1d(configs['Audio_Configs']['num_mels']))\n",
    "            )\n",
    "\n",
    "    def forward(self, x):\n",
    "        x = x.transpose(1,2)\n",
    "        for i in range(len(self.convolutions) - 1):\n",
    "            x = self.dropout(torch.tanh(self.convolutions[i](x)))\n",
    "        x = self.dropout(self.convolutions[-1](x))\n",
    "\n",
    "        return x.transpose(1,2)\n",
    "\n"
   ]
  },
  {
   "cell_type": "code",
   "execution_count": 4,
   "metadata": {},
   "outputs": [],
   "source": [
    "in_dim = 768\n",
    "out_dim = 80\n",
    "# Creating the Prenet model\n",
    "prenet_model = MelLinear(in_dim, out_dim)\n",
    "batch_size = 30\n",
    "random_input = torch.rand(batch_size, 18, in_dim)\n",
    "output = prenet_model(random_input)\n"
   ]
  },
  {
   "cell_type": "code",
   "execution_count": 5,
   "metadata": {},
   "outputs": [],
   "source": [
    "#torch.rand(batch_size, in_dim).shape"
   ]
  },
  {
   "cell_type": "code",
   "execution_count": 6,
   "metadata": {},
   "outputs": [
    {
     "data": {
      "text/plain": [
       "torch.Size([30, 18, 80])"
      ]
     },
     "execution_count": 6,
     "metadata": {},
     "output_type": "execute_result"
    }
   ],
   "source": [
    "output.shape"
   ]
  },
  {
   "cell_type": "code",
   "execution_count": 7,
   "metadata": {},
   "outputs": [],
   "source": [
    "postnet_model = Postnet(configs, 0.1)\n",
    "#MelLinear(in_dim, out_dim)"
   ]
  },
  {
   "cell_type": "code",
   "execution_count": 8,
   "metadata": {},
   "outputs": [
    {
     "data": {
      "text/plain": [
       "torch.Size([30, 18, 80])"
      ]
     },
     "execution_count": 8,
     "metadata": {},
     "output_type": "execute_result"
    }
   ],
   "source": [
    "postnet_model(output).shape"
   ]
  },
  {
   "attachments": {},
   "cell_type": "markdown",
   "metadata": {},
   "source": [
    "Combined Both"
   ]
  },
  {
   "cell_type": "code",
   "execution_count": 31,
   "metadata": {},
   "outputs": [],
   "source": [
    "import torch.nn as nn\n",
    "import torch.nn.functional as F\n",
    "\n",
    "class CombinedModel(nn.Module):\n",
    "    def __init__(self, configs, dropout=0.1):\n",
    "        super(CombinedModel, self).__init__()\n",
    "        \n",
    "        self.layer1 = LinearNorm(configs['EncDec_Configs']['embed_dim'],int(configs['EncDec_Configs']['embed_dim'] // 2))\n",
    "        self.layer2 = LinearNorm(int(configs['EncDec_Configs']['embed_dim'] // 2),configs['Audio_Configs']['num_mels'])\n",
    "        self.drop1 = nn.Dropout(dropout)\n",
    "        self.drop2 = nn.Dropout(dropout)\n",
    "\n",
    "        #postnet starts\n",
    "        self.convolutions = nn.ModuleList()\n",
    "        self.dropout = nn.Dropout(dropout)\n",
    "        self.convolutions.append(\n",
    "            nn.Sequential(\n",
    "                ConvNorm(configs['Audio_Configs']['num_mels'], configs['Postnet_Configs']['postnet_embedding_dim'],\n",
    "                         kernel_size=configs['Postnet_Configs']['postnet_kernel_size'], stride=1,\n",
    "                         padding=int((configs['Postnet_Configs']['postnet_kernel_size'] - 1) / 2),\n",
    "                         dilation=1, w_init_gain='tanh'),\n",
    "                nn.BatchNorm1d(configs['Postnet_Configs']['postnet_embedding_dim']))\n",
    "        )\n",
    "\n",
    "        for i in range(1, configs['Postnet_Configs']['postnet_n_convolutions'] - 1):\n",
    "            self.convolutions.append(\n",
    "                nn.Sequential(\n",
    "                    ConvNorm(configs['Postnet_Configs']['postnet_embedding_dim'],\n",
    "                             configs['Postnet_Configs']['postnet_embedding_dim'],\n",
    "                             kernel_size=configs['Postnet_Configs']['postnet_kernel_size'], stride=1,\n",
    "                             padding=int((configs['Postnet_Configs']['postnet_kernel_size'] - 1) / 2),\n",
    "                             dilation=1, w_init_gain='tanh'),\n",
    "                    nn.BatchNorm1d(configs['Postnet_Configs']['postnet_embedding_dim']))\n",
    "            )\n",
    "\n",
    "        self.convolutions.append(\n",
    "            nn.Sequential(\n",
    "                ConvNorm(configs['Postnet_Configs']['postnet_embedding_dim'], \n",
    "                         configs['Audio_Configs']['num_mels'],\n",
    "                         kernel_size=configs['Postnet_Configs']['postnet_kernel_size'], stride=1,\n",
    "                         padding=int((configs['Postnet_Configs']['postnet_kernel_size'] - 1) / 2),\n",
    "                         dilation=1, w_init_gain='linear'),\n",
    "                nn.BatchNorm1d(configs['Audio_Configs']['num_mels']))\n",
    "            )\n",
    "\n",
    "        self.stop_linear = nn.Linear(configs['EncDec_Configs']['embed_dim'], 1)\n",
    "\n",
    "    def forward(self, x):\n",
    "        # all_mel_linear\n",
    "        x_mel_linear = self.drop1(F.relu(self.layer1(x)))\n",
    "        x_mel_linear = self.drop2(self.layer2(x_mel_linear))\n",
    "        \n",
    "        #stop_linear\n",
    "        stoplinear_output = self.stop_linear(x)\n",
    "\n",
    "        #all postnet\n",
    "        x_postnet = x_mel_linear.transpose(1,2)\n",
    "        for i in range(len(self.convolutions) - 1):\n",
    "            x_postnet = self.dropout(torch.tanh(self.convolutions[i](x_postnet)))\n",
    "        x_postnet = self.dropout(self.convolutions[-1](x_postnet))\n",
    "        x_postnet = x_postnet.transpose(1,2)\n",
    "\n",
    "        mel_out = x_mel_linear + x_postnet\n",
    "\n",
    "\n",
    "        return x_mel_linear, stoplinear_output, mel_out\n",
    "\n",
    "# The classes LinearNorm and ConvNorm are not provided in the code snippet, \n",
    "# so make sure to include their definitions when using the CombinedModel class.\n"
   ]
  },
  {
   "cell_type": "code",
   "execution_count": 32,
   "metadata": {},
   "outputs": [],
   "source": [
    "all_ = CombinedModel(configs)"
   ]
  },
  {
   "cell_type": "code",
   "execution_count": 33,
   "metadata": {},
   "outputs": [
    {
     "data": {
      "text/plain": [
       "CombinedModel(\n",
       "  (layer1): LinearNorm(\n",
       "    (linear_layer): Linear(in_features=768, out_features=384, bias=True)\n",
       "  )\n",
       "  (layer2): LinearNorm(\n",
       "    (linear_layer): Linear(in_features=384, out_features=80, bias=True)\n",
       "  )\n",
       "  (drop1): Dropout(p=0.1, inplace=False)\n",
       "  (drop2): Dropout(p=0.1, inplace=False)\n",
       "  (convolutions): ModuleList(\n",
       "    (0): Sequential(\n",
       "      (0): ConvNorm(\n",
       "        (conv): Conv1d(80, 512, kernel_size=(5,), stride=(1,), padding=(2,))\n",
       "      )\n",
       "      (1): BatchNorm1d(512, eps=1e-05, momentum=0.1, affine=True, track_running_stats=True)\n",
       "    )\n",
       "    (1-3): 3 x Sequential(\n",
       "      (0): ConvNorm(\n",
       "        (conv): Conv1d(512, 512, kernel_size=(5,), stride=(1,), padding=(2,))\n",
       "      )\n",
       "      (1): BatchNorm1d(512, eps=1e-05, momentum=0.1, affine=True, track_running_stats=True)\n",
       "    )\n",
       "    (4): Sequential(\n",
       "      (0): ConvNorm(\n",
       "        (conv): Conv1d(512, 80, kernel_size=(5,), stride=(1,), padding=(2,))\n",
       "      )\n",
       "      (1): BatchNorm1d(80, eps=1e-05, momentum=0.1, affine=True, track_running_stats=True)\n",
       "    )\n",
       "  )\n",
       "  (dropout): Dropout(p=0.1, inplace=False)\n",
       "  (stop_linear): Linear(in_features=768, out_features=1, bias=True)\n",
       ")"
      ]
     },
     "execution_count": 33,
     "metadata": {},
     "output_type": "execute_result"
    }
   ],
   "source": [
    "all_"
   ]
  },
  {
   "cell_type": "code",
   "execution_count": 34,
   "metadata": {},
   "outputs": [],
   "source": [
    "random_input = torch.rand(30, 13, 768)\n",
    "linear_output, stop_linear_output, mel_spectogram_output = all_(random_input)"
   ]
  },
  {
   "cell_type": "code",
   "execution_count": 36,
   "metadata": {},
   "outputs": [
    {
     "data": {
      "text/plain": [
       "torch.Size([30, 13, 1])"
      ]
     },
     "execution_count": 36,
     "metadata": {},
     "output_type": "execute_result"
    }
   ],
   "source": [
    "stop_linear_output.shape"
   ]
  },
  {
   "cell_type": "code",
   "execution_count": null,
   "metadata": {},
   "outputs": [
    {
     "data": {
      "text/plain": [
       "torch.Size([30, 13, 80])"
      ]
     },
     "execution_count": 91,
     "metadata": {},
     "output_type": "execute_result"
    }
   ],
   "source": [
    "postnet_output.shape"
   ]
  },
  {
   "cell_type": "code",
   "execution_count": null,
   "metadata": {},
   "outputs": [],
   "source": [
    "class OutLinear(nn.Module):\n",
    "    def __init__(self, in_dim, out_dim, dropout=0.1):\n",
    "        super(OutLinear, self).__init__()\n",
    "    \n",
    "        #self.layer1 = LinearNorm(in_dim,int(in_dim//2))\n",
    "        self.layer2 = nn.Linear(int(in_dim//2),1)\n",
    "        self.drop1 = nn.Dropout(dropout)\n",
    "\n",
    "    def forward(self, x):\n",
    "        #x = self.drop1(F.relu(self.layer1(x)))\n",
    "        x = self.drop1(self.layer2(x))\n",
    "\n",
    "        return x\n"
   ]
  },
  {
   "cell_type": "code",
   "execution_count": null,
   "metadata": {},
   "outputs": [
    {
     "data": {
      "text/plain": [
       "OutLinear(\n",
       "  (layer2): Linear(in_features=384, out_features=1, bias=True)\n",
       "  (drop1): Dropout(p=0.1, inplace=False)\n",
       ")"
      ]
     },
     "execution_count": 46,
     "metadata": {},
     "output_type": "execute_result"
    }
   ],
   "source": [
    "prenet_model"
   ]
  },
  {
   "cell_type": "code",
   "execution_count": null,
   "metadata": {},
   "outputs": [
    {
     "ename": "RuntimeError",
     "evalue": "mat1 and mat2 shapes cannot be multiplied (540x768 and 384x1)",
     "output_type": "error",
     "traceback": [
      "\u001b[0;31m---------------------------------------------------------------------------\u001b[0m",
      "\u001b[0;31mRuntimeError\u001b[0m                              Traceback (most recent call last)",
      "Cell \u001b[0;32mIn[48], line 7\u001b[0m\n\u001b[1;32m      5\u001b[0m batch_size \u001b[39m=\u001b[39m \u001b[39m30\u001b[39m\n\u001b[1;32m      6\u001b[0m random_input \u001b[39m=\u001b[39m torch\u001b[39m.\u001b[39mrand(batch_size, \u001b[39m18\u001b[39m, in_dim)\n\u001b[0;32m----> 7\u001b[0m output \u001b[39m=\u001b[39m prenet_model(random_input)\n",
      "File \u001b[0;32m~/.local/lib/python3.10/site-packages/torch/nn/modules/module.py:1501\u001b[0m, in \u001b[0;36mModule._call_impl\u001b[0;34m(self, *args, **kwargs)\u001b[0m\n\u001b[1;32m   1496\u001b[0m \u001b[39m# If we don't have any hooks, we want to skip the rest of the logic in\u001b[39;00m\n\u001b[1;32m   1497\u001b[0m \u001b[39m# this function, and just call forward.\u001b[39;00m\n\u001b[1;32m   1498\u001b[0m \u001b[39mif\u001b[39;00m \u001b[39mnot\u001b[39;00m (\u001b[39mself\u001b[39m\u001b[39m.\u001b[39m_backward_hooks \u001b[39mor\u001b[39;00m \u001b[39mself\u001b[39m\u001b[39m.\u001b[39m_backward_pre_hooks \u001b[39mor\u001b[39;00m \u001b[39mself\u001b[39m\u001b[39m.\u001b[39m_forward_hooks \u001b[39mor\u001b[39;00m \u001b[39mself\u001b[39m\u001b[39m.\u001b[39m_forward_pre_hooks\n\u001b[1;32m   1499\u001b[0m         \u001b[39mor\u001b[39;00m _global_backward_pre_hooks \u001b[39mor\u001b[39;00m _global_backward_hooks\n\u001b[1;32m   1500\u001b[0m         \u001b[39mor\u001b[39;00m _global_forward_hooks \u001b[39mor\u001b[39;00m _global_forward_pre_hooks):\n\u001b[0;32m-> 1501\u001b[0m     \u001b[39mreturn\u001b[39;00m forward_call(\u001b[39m*\u001b[39;49margs, \u001b[39m*\u001b[39;49m\u001b[39m*\u001b[39;49mkwargs)\n\u001b[1;32m   1502\u001b[0m \u001b[39m# Do not call functions when jit is used\u001b[39;00m\n\u001b[1;32m   1503\u001b[0m full_backward_hooks, non_full_backward_hooks \u001b[39m=\u001b[39m [], []\n",
      "Cell \u001b[0;32mIn[44], line 11\u001b[0m, in \u001b[0;36mOutLinear.forward\u001b[0;34m(self, x)\u001b[0m\n\u001b[1;32m      9\u001b[0m \u001b[39mdef\u001b[39;00m \u001b[39mforward\u001b[39m(\u001b[39mself\u001b[39m, x):\n\u001b[1;32m     10\u001b[0m     \u001b[39m#x = self.drop1(F.relu(self.layer1(x)))\u001b[39;00m\n\u001b[0;32m---> 11\u001b[0m     x \u001b[39m=\u001b[39m \u001b[39mself\u001b[39m\u001b[39m.\u001b[39mdrop1(\u001b[39mself\u001b[39;49m\u001b[39m.\u001b[39;49mlayer2(x))\n\u001b[1;32m     13\u001b[0m     \u001b[39mreturn\u001b[39;00m x\n",
      "File \u001b[0;32m~/.local/lib/python3.10/site-packages/torch/nn/modules/module.py:1501\u001b[0m, in \u001b[0;36mModule._call_impl\u001b[0;34m(self, *args, **kwargs)\u001b[0m\n\u001b[1;32m   1496\u001b[0m \u001b[39m# If we don't have any hooks, we want to skip the rest of the logic in\u001b[39;00m\n\u001b[1;32m   1497\u001b[0m \u001b[39m# this function, and just call forward.\u001b[39;00m\n\u001b[1;32m   1498\u001b[0m \u001b[39mif\u001b[39;00m \u001b[39mnot\u001b[39;00m (\u001b[39mself\u001b[39m\u001b[39m.\u001b[39m_backward_hooks \u001b[39mor\u001b[39;00m \u001b[39mself\u001b[39m\u001b[39m.\u001b[39m_backward_pre_hooks \u001b[39mor\u001b[39;00m \u001b[39mself\u001b[39m\u001b[39m.\u001b[39m_forward_hooks \u001b[39mor\u001b[39;00m \u001b[39mself\u001b[39m\u001b[39m.\u001b[39m_forward_pre_hooks\n\u001b[1;32m   1499\u001b[0m         \u001b[39mor\u001b[39;00m _global_backward_pre_hooks \u001b[39mor\u001b[39;00m _global_backward_hooks\n\u001b[1;32m   1500\u001b[0m         \u001b[39mor\u001b[39;00m _global_forward_hooks \u001b[39mor\u001b[39;00m _global_forward_pre_hooks):\n\u001b[0;32m-> 1501\u001b[0m     \u001b[39mreturn\u001b[39;00m forward_call(\u001b[39m*\u001b[39;49margs, \u001b[39m*\u001b[39;49m\u001b[39m*\u001b[39;49mkwargs)\n\u001b[1;32m   1502\u001b[0m \u001b[39m# Do not call functions when jit is used\u001b[39;00m\n\u001b[1;32m   1503\u001b[0m full_backward_hooks, non_full_backward_hooks \u001b[39m=\u001b[39m [], []\n",
      "File \u001b[0;32m~/.local/lib/python3.10/site-packages/torch/nn/modules/linear.py:114\u001b[0m, in \u001b[0;36mLinear.forward\u001b[0;34m(self, input)\u001b[0m\n\u001b[1;32m    113\u001b[0m \u001b[39mdef\u001b[39;00m \u001b[39mforward\u001b[39m(\u001b[39mself\u001b[39m, \u001b[39minput\u001b[39m: Tensor) \u001b[39m-\u001b[39m\u001b[39m>\u001b[39m Tensor:\n\u001b[0;32m--> 114\u001b[0m     \u001b[39mreturn\u001b[39;00m F\u001b[39m.\u001b[39;49mlinear(\u001b[39minput\u001b[39;49m, \u001b[39mself\u001b[39;49m\u001b[39m.\u001b[39;49mweight, \u001b[39mself\u001b[39;49m\u001b[39m.\u001b[39;49mbias)\n",
      "\u001b[0;31mRuntimeError\u001b[0m: mat1 and mat2 shapes cannot be multiplied (540x768 and 384x1)"
     ]
    }
   ],
   "source": [
    "in_dim = 768\n",
    "out_dim = 80\n",
    "# Creating the Prenet model\n",
    "prenet_model = OutLinear(in_dim, out_dim)\n",
    "batch_size = 30\n",
    "random_input = torch.rand(batch_size, 18, in_dim)\n",
    "output = prenet_model(random_input)\n"
   ]
  },
  {
   "cell_type": "code",
   "execution_count": 20,
   "metadata": {},
   "outputs": [],
   "source": [
    "import torch\n",
    "import torch.nn as nn\n",
    "\n",
    "class StopLinear(nn.Module):\n",
    "    def __init__(self, input_size, output_size):\n",
    "        super(StopLinear, self).__init__()\n",
    "        self.linear = nn.Linear(input_size, output_size)\n",
    "\n",
    "    def forward(self, x):\n",
    "        output = self.linear(x)\n",
    "        return output\n"
   ]
  },
  {
   "cell_type": "code",
   "execution_count": 22,
   "metadata": {},
   "outputs": [
    {
     "data": {
      "text/plain": [
       "torch.Size([4, 10, 256])"
      ]
     },
     "execution_count": 22,
     "metadata": {},
     "output_type": "execute_result"
    }
   ],
   "source": [
    "input_data.shape"
   ]
  },
  {
   "cell_type": "code",
   "execution_count": 21,
   "metadata": {},
   "outputs": [
    {
     "name": "stdout",
     "output_type": "stream",
     "text": [
      "tensor([[[ 0.0091],\n",
      "         [ 0.1513],\n",
      "         [-0.3235],\n",
      "         [-0.0387],\n",
      "         [ 0.8807],\n",
      "         [-0.3860],\n",
      "         [-0.3836],\n",
      "         [-1.6093],\n",
      "         [ 0.0095],\n",
      "         [ 0.0115]],\n",
      "\n",
      "        [[ 0.3198],\n",
      "         [ 0.3496],\n",
      "         [ 0.4344],\n",
      "         [-0.5858],\n",
      "         [ 0.6487],\n",
      "         [-0.4532],\n",
      "         [ 0.1446],\n",
      "         [-0.6371],\n",
      "         [ 0.6340],\n",
      "         [ 1.0134]],\n",
      "\n",
      "        [[-0.8025],\n",
      "         [-0.4314],\n",
      "         [-0.0752],\n",
      "         [ 1.1128],\n",
      "         [ 1.0425],\n",
      "         [ 0.3279],\n",
      "         [ 0.3437],\n",
      "         [ 0.0180],\n",
      "         [ 0.6263],\n",
      "         [ 0.3281]],\n",
      "\n",
      "        [[-0.0099],\n",
      "         [ 1.4135],\n",
      "         [-0.4209],\n",
      "         [ 0.7863],\n",
      "         [ 0.2518],\n",
      "         [ 0.3779],\n",
      "         [-1.3510],\n",
      "         [-1.0199],\n",
      "         [-0.1495],\n",
      "         [-0.0173]]], grad_fn=<ViewBackward0>)\n",
      "torch.Size([4, 10, 1])\n"
     ]
    }
   ],
   "source": [
    "import torch\n",
    "\n",
    "hl = 256\n",
    "output_size = 1\n",
    "linear_layer = StopLinear(hl, output_size)\n",
    "\n",
    "bs = 4\n",
    "T = 10\n",
    "input_data = torch.randn(bs, T, hl)\n",
    "\n",
    "output_data = linear_layer(input_data)\n",
    "\n",
    "print(output_data)\n",
    "print(output_data.shape)\n"
   ]
  },
  {
   "cell_type": "code",
   "execution_count": null,
   "metadata": {},
   "outputs": [],
   "source": []
  }
 ],
 "metadata": {
  "kernelspec": {
   "display_name": "Python 3",
   "language": "python",
   "name": "python3"
  },
  "language_info": {
   "codemirror_mode": {
    "name": "ipython",
    "version": 3
   },
   "file_extension": ".py",
   "mimetype": "text/x-python",
   "name": "python",
   "nbconvert_exporter": "python",
   "pygments_lexer": "ipython3",
   "version": "3.10.6"
  },
  "orig_nbformat": 4
 },
 "nbformat": 4,
 "nbformat_minor": 2
}
